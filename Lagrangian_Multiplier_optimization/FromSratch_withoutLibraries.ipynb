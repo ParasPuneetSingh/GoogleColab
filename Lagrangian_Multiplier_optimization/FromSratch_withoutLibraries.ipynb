{
  "nbformat": 4,
  "nbformat_minor": 0,
  "metadata": {
    "colab": {
      "provenance": [],
      "authorship_tag": "ABX9TyOETYJ0iAkZjYU5SVbY6m26",
      "include_colab_link": true
    },
    "kernelspec": {
      "name": "python3",
      "display_name": "Python 3"
    },
    "language_info": {
      "name": "python"
    }
  },
  "cells": [
    {
      "cell_type": "markdown",
      "metadata": {
        "id": "view-in-github",
        "colab_type": "text"
      },
      "source": [
        "<a href=\"https://colab.research.google.com/github/ParasPuneetSingh/GoogleColab/blob/main/Lagrangian_Multiplier_optimization/FromSratch_withoutLibraries.ipynb\" target=\"_parent\"><img src=\"https://colab.research.google.com/assets/colab-badge.svg\" alt=\"Open In Colab\"/></a>"
      ]
    },
    {
      "cell_type": "code",
      "execution_count": null,
      "metadata": {
        "id": "WY_SKOnpQtch"
      },
      "outputs": [],
      "source": [
        "import numpy as np\n",
        "\n",
        "# Objective function: (x-1)^2 + y^2 + (z-2)^2\n",
        "def objective_function(x, y, z):\n",
        "    return (x - 1)**2 + y**2 + (z - 2)**2\n",
        "\n",
        "# Constraint functions\n",
        "def constraint_1(x, y):\n",
        "    return 4*y - x**2\n",
        "\n",
        "def constraint_2(x, y, z):\n",
        "    return 4 - x**2 + y**2 + z**2\n",
        "\n",
        "# Lagrangian function\n",
        "def lagrangian(x, y, z, lambda_1, lambda_2):\n",
        "    return objective_function(x, y, z) - lambda_1 * constraint_1(x, y) - lambda_2 * constraint_2(x, y, z)\n",
        "\n",
        "# Optimization function\n",
        "def optimize():\n",
        "    # Initial guess for variables and Lagrange multipliers\n",
        "    x = 0.5\n",
        "    y = 0.5\n",
        "    z = 1.5\n",
        "    lambda_1 = 0.0\n",
        "    lambda_2 = 0.0\n",
        "\n",
        "    # Optimization parameters\n",
        "    learning_rate = 0.00005\n",
        "    max_iterations = 2000\n",
        "    epsilon = 1e-6\n",
        "\n",
        "    # Optimization loop\n",
        "    for i in range(max_iterations):\n",
        "        # Compute gradients\n",
        "        grad_x = -2 * (x - 1) - 2 * lambda_1 * x - 2 * lambda_2 * x\n",
        "        grad_y = 2 * y - 4 * lambda_1\n",
        "        grad_z = -2 * (z - 2) - 2 * lambda_2 * z\n",
        "        grad_lambda_1 = 4*y - x**2\n",
        "        grad_lambda_2 = 4 - x**2 + y**2 + z**2\n",
        "\n",
        "        # Update variables and Lagrange multipliers\n",
        "        x -= learning_rate * grad_x\n",
        "        y -= learning_rate * grad_y\n",
        "        z -= learning_rate * grad_z\n",
        "        lambda_1 += learning_rate * grad_lambda_1\n",
        "        lambda_2 += learning_rate * grad_lambda_2\n",
        "\n",
        "        # Check for convergence\n",
        "        if max(abs(grad_x), abs(grad_y), abs(grad_z), abs(grad_lambda_1), abs(grad_lambda_2)) < epsilon:\n",
        "            break\n",
        "\n",
        "    return x, y, z, lambda_1, lambda_2\n",
        "\n",
        "# Solve optimization problem\n",
        "x_opt, y_opt, z_opt, lambda_1_opt, lambda_2_opt = optimize()\n",
        "\n",
        "# Print results\n",
        "print(\"Optimal solution:\")\n",
        "print(\"x =\", x_opt)\n",
        "print(\"y =\", y_opt)\n",
        "print(\"z =\", z_opt)\n",
        "print(\"Lambda 1 =\", lambda_1_opt)\n",
        "print(\"Lambda 2 =\", lambda_2_opt)\n",
        "print(\"Objective value =\", objective_function(x_opt, y_opt, z_opt))\n"
      ]
    }
  ]
}